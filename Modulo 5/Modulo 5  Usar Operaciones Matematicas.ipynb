{
 "cells": [
  {
   "cell_type": "code",
   "execution_count": 2,
   "metadata": {},
   "outputs": [
    {
     "name": "stdout",
     "output_type": "stream",
     "text": [
      "628949330\n",
      "390577533.93\n"
     ]
    }
   ],
   "source": [
    "tierra = 149597870\n",
    "jupiter = 778547200\n",
    "\n",
    "distanciaEnKm = jupiter - tierra\n",
    "print(distanciaEnKm)\n",
    "\n",
    "distanciaEnMi = distanciaEnKm * 0.621\n",
    "print(distanciaEnMi)"
   ]
  },
  {
   "cell_type": "code",
   "execution_count": 6,
   "metadata": {},
   "outputs": [
    {
     "name": "stdout",
     "output_type": "stream",
     "text": [
      "La distancia entre los planetas es de: 198 Km\n",
      "La distancia entre los planetas es de: 122.958 Mi\n"
     ]
    }
   ],
   "source": [
    "primerPlaneta = input('Introduzca la distancia del sol al primer planeta en KM')\n",
    "segundoPlaneta = input('Introduzca la distancia desde el sol al segundo planeta en KM')\n",
    "\n",
    "primerPlaneta = int(primerPlaneta)\n",
    "segundoPlaneta = int(segundoPlaneta)\n",
    "\n",
    "distanciaKM = segundoPlaneta - primerPlaneta\n",
    "print(\"La distancia entre los planetas es de: \" + str(distanciaKM) + \" Km\")\n",
    "\n",
    "distanciaMI = distanciaKM * 0.621\n",
    "print(\"La distancia entre los planetas es de: \" + str(abs(distanciaMI)) + \" Mi\")"
   ]
  }
 ],
 "metadata": {
  "interpreter": {
   "hash": "aee8b7b246df8f9039afb4144a1f6fd8d2ca17a180786b69acc140d282b71a49"
  },
  "kernelspec": {
   "display_name": "Python 3.10.2 64-bit",
   "language": "python",
   "name": "python3"
  },
  "language_info": {
   "codemirror_mode": {
    "name": "ipython",
    "version": 3
   },
   "file_extension": ".py",
   "mimetype": "text/x-python",
   "name": "python",
   "nbconvert_exporter": "python",
   "pygments_lexer": "ipython3",
   "version": "3.10.2"
  },
  "orig_nbformat": 4
 },
 "nbformat": 4,
 "nbformat_minor": 2
}
