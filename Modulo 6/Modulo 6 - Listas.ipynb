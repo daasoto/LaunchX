{
 "cells": [
  {
   "cell_type": "code",
   "execution_count": 5,
   "metadata": {},
   "outputs": [
    {
     "name": "stdout",
     "output_type": "stream",
     "text": [
      "Hay 9 planetas en nuestra galaxia 🌌\n",
      "Tierra Nueva ... es un nuevo planeta???\n"
     ]
    }
   ],
   "source": [
    "planetas = ['Mercurio', 'Venus', 'Tierra', 'Marte', 'Jupiter', 'Saturno', 'Urano', 'Neptuno', 'Pluton uwu']\n",
    "\n",
    "print('Hay', len(planetas), 'planetas en nuestra galaxia 🌌')\n",
    "\n",
    "planetas.append('Tierra Nueva')\n",
    "\n",
    "print(planetas[-1], '...  es un nuevo planeta???')"
   ]
  },
  {
   "cell_type": "code",
   "execution_count": 17,
   "metadata": {},
   "outputs": [
    {
     "name": "stdout",
     "output_type": "stream",
     "text": [
      "Los planetas en nuestra galaxia son: ['Mercurio', 'Venus', 'Tierra', 'Marte', 'Jupiter', 'Saturno', 'Urano', 'Neptuno']\n",
      "Los planetas mas cercanos al sol que Marte, son:\n",
      "['Mercurio', 'Venus', 'Tierra']\n",
      "Los planetas mas lejanos al sol que Marte, son:\n",
      "['Jupiter', 'Saturno', 'Urano', 'Neptuno', 'Pluton uwu']\n"
     ]
    }
   ],
   "source": [
    "planetas = ['Mercurio', 'Venus', 'Tierra', 'Marte', 'Jupiter', 'Saturno', 'Urano', 'Neptuno', 'Pluton uwu']\n",
    "print('Los planetas en nuestra galaxia son: ' + str(planetas[0:8]))\n",
    "\n",
    "\n",
    "planetaUsuario = input('Please enter the name of the planet (with a capital letter to start)')\n",
    "planetaIndice = planetas.index(planetaUsuario)\n",
    "\n",
    "print('Los planetas mas cercanos al sol que ' + planetaUsuario + ', son:')\n",
    "print(planetas[0:planetaIndice])\n",
    "\n",
    "print('Los planetas mas lejanos al sol que ' + planetaUsuario + ', son:')\n",
    "print(planetas[planetaIndice + 1:])"
   ]
  }
 ],
 "metadata": {
  "interpreter": {
   "hash": "aee8b7b246df8f9039afb4144a1f6fd8d2ca17a180786b69acc140d282b71a49"
  },
  "kernelspec": {
   "display_name": "Python 3.10.2 64-bit",
   "language": "python",
   "name": "python3"
  },
  "language_info": {
   "codemirror_mode": {
    "name": "ipython",
    "version": 3
   },
   "file_extension": ".py",
   "mimetype": "text/x-python",
   "name": "python",
   "nbconvert_exporter": "python",
   "pygments_lexer": "ipython3",
   "version": "3.10.2"
  },
  "orig_nbformat": 4
 },
 "nbformat": 4,
 "nbformat_minor": 2
}
