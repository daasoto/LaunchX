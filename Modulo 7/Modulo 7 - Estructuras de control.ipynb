{
 "cells": [
  {
   "cell_type": "code",
   "execution_count": 3,
   "metadata": {},
   "outputs": [
    {
     "name": "stdout",
     "output_type": "stream",
     "text": [
      "Agrega planetas escribiendolos en el input, para terminar escribe 'listo' \n",
      "popo\n",
      "ca\n",
      "ca\n",
      "te amo\n"
     ]
    }
   ],
   "source": [
    "planetaNuevo = ''\n",
    "planetas = []\n",
    "print(\"Agrega planetas escribiendolos en el input, para terminar escribe 'listo' \")\n",
    "while planetaNuevo.lower() != 'listo':\n",
    "    if planetaNuevo:\n",
    "        planetas.append(planetaNuevo)\n",
    "    planetaNuevo = input('Agrega un planeta: ')\n",
    "\n",
    "for planeta in planetas:\n",
    "    print(planeta)"
   ]
  }
 ],
 "metadata": {
  "interpreter": {
   "hash": "aee8b7b246df8f9039afb4144a1f6fd8d2ca17a180786b69acc140d282b71a49"
  },
  "kernelspec": {
   "display_name": "Python 3.10.2 64-bit",
   "language": "python",
   "name": "python3"
  },
  "language_info": {
   "codemirror_mode": {
    "name": "ipython",
    "version": 3
   },
   "file_extension": ".py",
   "mimetype": "text/x-python",
   "name": "python",
   "nbconvert_exporter": "python",
   "pygments_lexer": "ipython3",
   "version": "3.10.2"
  },
  "orig_nbformat": 4
 },
 "nbformat": 4,
 "nbformat_minor": 2
}
