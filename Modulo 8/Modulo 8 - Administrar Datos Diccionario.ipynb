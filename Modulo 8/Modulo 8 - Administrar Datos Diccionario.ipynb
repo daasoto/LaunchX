{
 "cells": [
  {
   "cell_type": "code",
   "execution_count": 6,
   "metadata": {},
   "outputs": [
    {
     "name": "stdout",
     "output_type": "stream",
     "text": [
      "Jupiter tiene 79 Lunas\n",
      "Jupiter tiene una circunferencia polar de:  449147 km\n"
     ]
    }
   ],
   "source": [
    "planeta = {\n",
    "    'Nombre': 'Jupiter',\n",
    "    'Lunas': 79\n",
    "}\n",
    "\n",
    "print(f'{planeta[\"Nombre\"]} tiene {planeta[\"Lunas\"]} Lunas')\n",
    "\n",
    "planeta['circunferencia (km)'] = {\n",
    "    'polar': 449147,\n",
    "    'ecuatorial': 450321\n",
    "}\n",
    "\n",
    "print(f'{planeta[\"Nombre\"]} tiene una circunferencia polar de:  {planeta[\"circunferencia (km)\"][\"polar\"]} km')"
   ]
  },
  {
   "cell_type": "code",
   "execution_count": 10,
   "metadata": {},
   "outputs": [
    {
     "name": "stdout",
     "output_type": "stream",
     "text": [
      "17.833333333333332\n"
     ]
    }
   ],
   "source": [
    "planetaLunas = {\n",
    "    'Mercurio': 0,\n",
    "    'Venus': 0,\n",
    "    'Tierra': 1,\n",
    "    'Marte': 2,\n",
    "    'Jupiter': 79,\n",
    "    'Saturno': 82,\n",
    "    'Urano': 27,\n",
    "    'Neptuno': 14,\n",
    "    'Pluton': 5,\n",
    "    'Planetilla': 2,\n",
    "    'Planeton': 1,\n",
    "    'Planetazo': 1\n",
    "}\n",
    "lunas = planetaLunas.values()\n",
    "planetas = len(planetaLunas.keys())\n",
    "\n",
    "lunasTotales = 0\n",
    "for Luna in lunas:\n",
    "    lunasTotales = lunasTotales + Luna\n",
    "\n",
    "# Calcula el promedio dividiendo el total_moons por el número de planetas\n",
    "promedio = lunasTotales / planetas\n",
    "\n",
    "# Muestra el promedio\n",
    "print(promedio)\n"
   ]
  }
 ],
 "metadata": {
  "interpreter": {
   "hash": "aee8b7b246df8f9039afb4144a1f6fd8d2ca17a180786b69acc140d282b71a49"
  },
  "kernelspec": {
   "display_name": "Python 3.10.2 64-bit",
   "language": "python",
   "name": "python3"
  },
  "language_info": {
   "codemirror_mode": {
    "name": "ipython",
    "version": 3
   },
   "file_extension": ".py",
   "mimetype": "text/x-python",
   "name": "python",
   "nbconvert_exporter": "python",
   "pygments_lexer": "ipython3",
   "version": "3.10.2"
  },
  "orig_nbformat": 4
 },
 "nbformat": 4,
 "nbformat_minor": 2
}
