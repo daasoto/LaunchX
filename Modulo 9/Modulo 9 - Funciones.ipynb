{
 "cells": [
  {
   "cell_type": "code",
   "execution_count": 2,
   "metadata": {},
   "outputs": [
    {
     "name": "stdout",
     "output_type": "stream",
     "text": [
      "Reporte de Combustible:\n",
      "    Promedio Total: 78.33333333333333%\n",
      "    Tanque Principal: 80%\n",
      "    Tanque Externo: 70%\n",
      "    Tanque de Hidrogeno: 85% \n",
      "    \n",
      "Reporte de Combustible:\n",
      "    Promedio Total: 78.0%\n",
      "    Tanque Principal: 88%\n",
      "    Tanque Externo: 76%\n",
      "    Tanque Hidrogeno: 70% \n",
      "    \n",
      "Reporte de Combustible:\n",
      "    Promedio Total: 40.333333333333336%\n",
      "    Tanque Principal: 65%\n",
      "    Tanque Externo: 24%\n",
      "    Tanque Hidrogeno: 32% \n",
      "    \n"
     ]
    }
   ],
   "source": [
    "\n",
    "def generarReporte(tanquePrincipal, tanqueExterno, tanqueHidrogeno):\n",
    "    promedioTotal = (tanquePrincipal + tanqueExterno + tanqueHidrogeno) / 3\n",
    "    return f\"\"\"Reporte de Combustible:\n",
    "    Promedio Total: {promedioTotal}%\n",
    "    Tanque Principal: {tanquePrincipal}%\n",
    "    Tanque Externo: {tanqueExterno}%\n",
    "    Tanque de Hidrogeno: {tanqueHidrogeno}% \n",
    "    \"\"\"\n",
    "\n",
    "print(generarReporte(80, 70, 85))\n",
    "\n",
    "def average(valores):\n",
    "    total = sum(valores)\n",
    "    numeroObjetos = len(valores)\n",
    "    return total / numeroObjetos\n",
    "\n",
    "average([80, 85, 81]) \n",
    "\n",
    "def generarReporte(tanquePrincipal, tanqueExterno, tanqueHidrogeno):\n",
    "    return f\"\"\"Reporte de Combustible:\n",
    "    Promedio Total: {average([tanquePrincipal, tanqueExterno, tanqueHidrogeno])}%\n",
    "    Tanque Principal: {tanquePrincipal}%\n",
    "    Tanque Externo: {tanqueExterno}%\n",
    "    Tanque Hidrogeno: {tanqueHidrogeno}% \n",
    "    \"\"\"\n",
    "\n",
    "print(generarReporte(88, 76, 70))\n",
    "print(generarReporte(65, 24, 32))"
   ]
  },
  {
   "cell_type": "code",
   "execution_count": 8,
   "metadata": {},
   "outputs": [
    {
     "name": "stdout",
     "output_type": "stream",
     "text": [
      "\n",
      "    Mision hacia Luna\n",
      "    Tiempo total de viaje: 65 minutos\n",
      "    Combustible restante: 500000 galones\n",
      "    \n",
      "\n",
      "    Mision hacia Luna\n",
      "    Tiempo total de viaje: 76 minutos\n",
      "    Combustible restante: 500000\n",
      "    \n",
      "\n",
      "    Mision hacia Luna\n",
      "    Tiempo total de viaje: 74 minutos\n",
      "    Combustible restante: 500000\n",
      "    principal --> 300000 galones restantes    \n",
      "externo --> 200000 galones restantes    \n",
      "\n"
     ]
    }
   ],
   "source": [
    "def reporteMision(tiempoPrelanzamiento, tiempoVuelo, destino, tanqueExterno, tanquePrincipal):\n",
    "    return f\"\"\"\n",
    "    Mision hacia {destino}\n",
    "    Tiempo total de viaje: {tiempoPrelanzamiento + tiempoVuelo} minutos\n",
    "    Combustible restante: {tanqueExterno + tanquePrincipal} galones\n",
    "    \"\"\"\n",
    "\n",
    "print(reporteMision(14, 51, \"Luna\", 200000, 300000))\n",
    "\n",
    "def reporteMision(destino, *minutos, **reservaCombustible):\n",
    "    return f\"\"\"\n",
    "    Mision hacia {destino}\n",
    "    Tiempo total de viaje: {sum(minutos)} minutos\n",
    "    Combustible restante: {sum(reservaCombustible.values())}\n",
    "    \"\"\"\n",
    "\n",
    "print(reporteMision(\"Luna\", 10, 15, 51, principal=300000, externo=200000))\n",
    "\n",
    "def reporteMision(destino, *minutos, **reservaCombustible):\n",
    "    reportePrincipal = f\"\"\"\n",
    "    Mision hacia {destino}\n",
    "    Tiempo total de viaje: {sum(minutos)} minutos\n",
    "    Combustible restante: {sum(reservaCombustible.values())}\n",
    "    \"\"\"\n",
    "    for nombreTanque, galones in reservaCombustible.items():\n",
    "        reportePrincipal += f\"{nombreTanque} --> {galones} galones restantes\\n\"\n",
    "    return reportePrincipal\n",
    "\n",
    "print(reporteMision(\"Luna\", 8, 11, 55, principal=300000, externo=200000))"
   ]
  }
 ],
 "metadata": {
  "interpreter": {
   "hash": "aee8b7b246df8f9039afb4144a1f6fd8d2ca17a180786b69acc140d282b71a49"
  },
  "kernelspec": {
   "display_name": "Python 3.10.2 64-bit",
   "language": "python",
   "name": "python3"
  },
  "language_info": {
   "codemirror_mode": {
    "name": "ipython",
    "version": 3
   },
   "file_extension": ".py",
   "mimetype": "text/x-python",
   "name": "python",
   "nbconvert_exporter": "python",
   "pygments_lexer": "ipython3",
   "version": "3.10.2"
  },
  "orig_nbformat": 4
 },
 "nbformat": 4,
 "nbformat_minor": 2
}
